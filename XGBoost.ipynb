{
 "cells": [
  {
   "cell_type": "markdown",
   "id": "089a2c46-6ec0-42b6-b1c5-f4c6c8d1dc79",
   "metadata": {},
   "source": [
    "#### h. XGBoost"
   ]
  },
  {
   "cell_type": "code",
   "execution_count": 11,
   "id": "e08f200b-ab5d-4afd-8a14-b055adfd78f3",
   "metadata": {},
   "outputs": [
    {
     "name": "stdout",
     "output_type": "stream",
     "text": [
      "XGBoost Accuracy: 0.9532163742690059\n",
      "Confusion Matrix:\n",
      " [[102   1]\n",
      " [  7  61]]\n"
     ]
    }
   ],
   "source": [
    "import pandas as pd\n",
    "from sklearn.model_selection import train_test_split\n",
    "from xgboost import XGBClassifier\n",
    "from sklearn.metrics import accuracy_score, confusion_matrix\n",
    "\n",
    "# Load the dataset\n",
    "url = \"https://archive.ics.uci.edu/ml/machine-learning-databases/breast-cancer-wisconsin/breast-cancer-wisconsin.data\"\n",
    "columns = ['Sample_code_number', 'Clump Thickness', 'Uniformity of Cell Size', 'Uniformity of Cell Shape', \n",
    "           'Marginal Adhesion', 'Single Epithelial Cell Size', 'Bare Nuclei', 'Bland Chromatin', \n",
    "           'Normal Nucleoli', 'Mitoses', 'Class']\n",
    "\n",
    "data = pd.read_csv(url, header=None, names=columns)\n",
    "data['Bare Nuclei'] = pd.to_numeric(data['Bare Nuclei'], errors='coerce')\n",
    "data = data.dropna()\n",
    "\n",
    "# Change class labels from 2 and 4 to 0 and 1\n",
    "data['Class'] = data['Class'].replace({2: 0, 4: 1})\n",
    "\n",
    "X = data.drop(['Sample_code_number', 'Class'], axis=1)\n",
    "y = data['Class']\n",
    "X_train, X_test, y_train, y_test = train_test_split(X, y, test_size=0.25, random_state=42)\n",
    "\n",
    "# Create and train the model without the use_label_encoder parameter\n",
    "model = XGBClassifier(eval_metric='logloss')\n",
    "model.fit(X_train, y_train)\n",
    "\n",
    "# Predictions\n",
    "y_pred = model.predict(X_test)\n",
    "\n",
    "# Accuracy and confusion matrix\n",
    "accuracy = accuracy_score(y_test, y_pred)\n",
    "conf_matrix = confusion_matrix(y_test, y_pred)\n",
    "\n",
    "print(\"XGBoost Accuracy:\", accuracy)\n",
    "print(\"Confusion Matrix:\\n\", conf_matrix)"
   ]
  },
  {
   "cell_type": "code",
   "execution_count": null,
   "id": "61aef7c3-c19c-453a-affd-fb033dc637ca",
   "metadata": {},
   "outputs": [],
   "source": []
  }
 ],
 "metadata": {
  "kernelspec": {
   "display_name": "Python 3 (ipykernel)",
   "language": "python",
   "name": "python3"
  },
  "language_info": {
   "codemirror_mode": {
    "name": "ipython",
    "version": 3
   },
   "file_extension": ".py",
   "mimetype": "text/x-python",
   "name": "python",
   "nbconvert_exporter": "python",
   "pygments_lexer": "ipython3",
   "version": "3.12.4"
  }
 },
 "nbformat": 4,
 "nbformat_minor": 5
}
